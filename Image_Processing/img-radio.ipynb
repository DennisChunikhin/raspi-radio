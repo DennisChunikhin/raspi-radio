{
 "cells": [
  {
   "cell_type": "code",
   "execution_count": 2,
   "id": "37dd3e91-dbda-4e96-aba0-65b8e036be4e",
   "metadata": {},
   "outputs": [],
   "source": [
    "from PIL import Image, ImageFilter, ImageOps\n",
    "\n",
    "import numpy as np\n",
    "\n",
    "import matplotlib.pyplot as plt"
   ]
  },
  {
   "cell_type": "markdown",
   "id": "d9b9175e-56dd-46f8-8423-86f21fed3c56",
   "metadata": {},
   "source": [
    "# Image"
   ]
  },
  {
   "cell_type": "code",
   "execution_count": 368,
   "id": "6ce94d5a-4af4-4fcf-b714-22aae2fe906d",
   "metadata": {},
   "outputs": [],
   "source": [
    "img = Image.open(\"Images/egg.jpg\")\n",
    "img = img.convert(\"L\") # Convert to grayscale\n",
    "#img = ImageOps.invert(img) # Invert Image"
   ]
  },
  {
   "cell_type": "markdown",
   "id": "58b71937-fbfa-474a-8cb1-baf12ac884ec",
   "metadata": {},
   "source": [
    "## Compress Image"
   ]
  },
  {
   "cell_type": "code",
   "execution_count": 369,
   "id": "440ba1d9-16ec-4c3b-81e6-e10a1c51f5d8",
   "metadata": {},
   "outputs": [],
   "source": [
    "width = 100\n",
    "num_divisions = 5\n",
    "cutoff = 0"
   ]
  },
  {
   "cell_type": "code",
   "execution_count": 370,
   "id": "01c3ec22-6849-4882-ab06-cc50e1af0966",
   "metadata": {},
   "outputs": [],
   "source": [
    "aspect = img.size[1] / img.size[0]\n",
    "img = img.resize((width, int(width*aspect)))"
   ]
  },
  {
   "cell_type": "code",
   "execution_count": 371,
   "id": "3f2e4f83-df5b-4366-a329-b2d4d5dd9a81",
   "metadata": {},
   "outputs": [],
   "source": [
    "img_data = np.asarray(img)"
   ]
  },
  {
   "cell_type": "code",
   "execution_count": 372,
   "id": "94450b8d-8db0-423d-be25-7253a866b2a7",
   "metadata": {},
   "outputs": [],
   "source": [
    "img_data = img_data / np.max(img_data)\n",
    "img_data = (img_data * num_divisions).astype(int)\n",
    "img_data = np.maximum(img_data - cutoff, 0)"
   ]
  },
  {
   "cell_type": "code",
   "execution_count": 373,
   "id": "992c460a-b0c0-4a5f-8405-37413dc81512",
   "metadata": {},
   "outputs": [
    {
     "data": {
      "text/plain": [
       "289"
      ]
     },
     "execution_count": 373,
     "metadata": {},
     "output_type": "execute_result"
    }
   ],
   "source": [
    "np.max(np.sum(img_data, axis=1))"
   ]
  },
  {
   "cell_type": "code",
   "execution_count": 374,
   "id": "5faec49a-1219-4f0a-997e-4f0e269a8287",
   "metadata": {},
   "outputs": [
    {
     "data": {
      "text/plain": [
       "<matplotlib.image.AxesImage at 0x27024baa6f0>"
      ]
     },
     "execution_count": 374,
     "metadata": {},
     "output_type": "execute_result"
    },
    {
     "data": {
      "image/png": "[encoded data removed]",
      "text/plain": [
       "<Figure size 640x480 with 1 Axes>"
      ]
     },
     "metadata": {},
     "output_type": "display_data"
    }
   ],
   "source": [
    "plt.imshow(img_data)"
   ]
  }
 ],
 "metadata": {
  "kernelspec": {
   "display_name": "Python 3 (ipykernel)",
   "language": "python",
   "name": "python3"
  },
  "language_info": {
   "codemirror_mode": {
    "name": "ipython",
    "version": 3
   },
   "file_extension": ".py",
   "mimetype": "text/x-python",
   "name": "python",
   "nbconvert_exporter": "python",
   "pygments_lexer": "ipython3",
   "version": "3.12.3"
  }
 },
 "nbformat": 4,
 "nbformat_minor": 5
}
